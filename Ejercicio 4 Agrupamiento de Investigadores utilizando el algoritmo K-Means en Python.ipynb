{
 "cells": [
  {
   "cell_type": "code",
   "execution_count": 14,
   "id": "3fd4bf38",
   "metadata": {},
   "outputs": [
    {
     "name": "stderr",
     "output_type": "stream",
     "text": [
      "[nltk_data] Downloading package stopwords to\n",
      "[nltk_data]     C:\\Users\\PRIME\\AppData\\Roaming\\nltk_data...\n",
      "[nltk_data]   Package stopwords is already up-to-date!\n",
      "C:\\Users\\PRIME\\anaconda3\\Lib\\site-packages\\sklearn\\cluster\\_kmeans.py:870: FutureWarning: The default value of `n_init` will change from 10 to 'auto' in 1.4. Set the value of `n_init` explicitly to suppress the warning\n",
      "  warnings.warn(\n"
     ]
    }
   ],
   "source": [
    "import pandas as pd\n",
    "from sklearn.feature_extraction.text import TfidfVectorizer\n",
    "from sklearn.cluster import KMeans\n",
    "import nltk\n",
    "from nltk.corpus import stopwords\n",
    "\n",
    "# Descarga las stopwords si aún no las tienes\n",
    "nltk.download('stopwords')\n",
    "\n",
    "# Carga el archivo CSV en un DataFrame\n",
    "file_path = r'C:\\Users\\PRIME\\Desktop\\SAS\\Cursos\\IA CS\\EJERCICIOS PYTHON\\Investigadores-SNI-Vigentes-2018.csv'\n",
    "data = pd.read_csv(file_path, encoding='latin1')\n",
    "\n",
    "# Selecciona la columna de texto que deseas utilizar para el clústering\n",
    "text_column = 'Área del Conocimiento'  # Reemplaza con la columna de texto que desees\n",
    "\n",
    "# Preprocesa y vectoriza el texto\n",
    "vectorizer = TfidfVectorizer(stop_words=stopwords.words('spanish'))\n",
    "text_data = vectorizer.fit_transform(data[text_column])\n",
    "\n",
    "# Define el número de clústeres (grupos) que deseas encontrar\n",
    "n_clusters = 3  # Puedes ajustar este valor según sea necesario\n",
    "\n",
    "# Crea un modelo de K-Means\n",
    "kmeans = KMeans(n_clusters=n_clusters)\n",
    "\n",
    "# Entrena el modelo en los datos vectorizados de texto\n",
    "kmeans.fit(text_data)\n",
    "\n",
    "# Agrega las etiquetas de clúster de vuelta al DataFrame original\n",
    "data['Cluster'] = kmeans.labels_\n"
   ]
  },
  {
   "cell_type": "code",
   "execution_count": 16,
   "id": "cc046226",
   "metadata": {},
   "outputs": [
    {
     "name": "stdout",
     "output_type": "stream",
     "text": [
      "      Grado Apellido Paterno Apellido Materno            Nombre Nivel  \\\n",
      "0      DRA.        HERNANDEZ            LOPEZ  SILVIA HORTENCIA     C   \n",
      "1       DR.      FINKELSTEIN          SHAPIRO            DANIEL     1   \n",
      "2       DR.            ALEJO            JAIME           ANTONIO     1   \n",
      "3      MED.              GIL         CARRASCO             FELIX     1   \n",
      "4  M. EN C.             RUIZ             CRUZ           MATILDE     1   \n",
      "\n",
      "                          Institución de Adscripción  \\\n",
      "0          AGROPECUARIA EL AVION, S. DE P.R. DE R.L.   \n",
      "1                           ARIZONA STATE UNIVERSITY   \n",
      "2    ASOCIACION MEXICANA DE BIOLOGIA SINTETICA, A.C.   \n",
      "3  ASOCIACION PARA EVITAR LA CEGUERA EN MEXICO, I...   \n",
      "4  ASOCIACION PARA EVITAR LA CEGUERA EN MEXICO, I...   \n",
      "\n",
      "                             Área del Conocimiento  Cluster  \n",
      "0  Área VI: BIOTECNOLOGÍA Y CIENCIAS AGROPECUARIAS        0  \n",
      "1                      Área II: BIOLOGÍA Y QUÍMICA        2  \n",
      "2                        Área V: CIENCIAS SOCIALES        0  \n",
      "3        Área III: MEDICINA Y CIENCIAS DE LA SALUD        0  \n",
      "4        Área III: MEDICINA Y CIENCIAS DE LA SALUD        0  \n",
      "Cluster 0:\n",
      "                 Nombre                              Área del Conocimiento\n",
      "0      SILVIA HORTENCIA    Área VI: BIOTECNOLOGÍA Y CIENCIAS AGROPECUARIAS\n",
      "2               ANTONIO                          Área V: CIENCIAS SOCIALES\n",
      "3                 FELIX          Área III: MEDICINA Y CIENCIAS DE LA SALUD\n",
      "4               MATILDE          Área III: MEDICINA Y CIENCIAS DE LA SALUD\n",
      "5                 JESUS          Área III: MEDICINA Y CIENCIAS DE LA SALUD\n",
      "...                 ...                                                ...\n",
      "28566           MARIANA          Área III: MEDICINA Y CIENCIAS DE LA SALUD\n",
      "28567      JORGE MICHEL  Área I: FISICO-MATEMÁTICAS Y CIENCIAS DE LA TI...\n",
      "28574       RAUL ULISES          Área III: MEDICINA Y CIENCIAS DE LA SALUD\n",
      "28576        DAVID JOSE  Área I: FISICO-MATEMÁTICAS Y CIENCIAS DE LA TI...\n",
      "28577      MIGUEL ANGEL                          Área V: CIENCIAS SOCIALES\n",
      "\n",
      "[20115 rows x 2 columns]\n",
      "\n",
      "\n",
      "Cluster 1:\n",
      "                  Nombre  Área del Conocimiento\n",
      "20       EDGAR FRANCISCO  Área VII: INGENIERÍAS\n",
      "21     CHRISTIAN HORACIO  Área VII: INGENIERÍAS\n",
      "567               ESTELA  Área VII: INGENIERÍAS\n",
      "568      MARIA DE LA PAZ  Área VII: INGENIERÍAS\n",
      "569                JESUS  Área VII: INGENIERÍAS\n",
      "...                  ...                    ...\n",
      "28557            XOCHITL  Área VII: INGENIERÍAS\n",
      "28558       RENE ENRIQUE  Área VII: INGENIERÍAS\n",
      "28562          ALEJANDRO  Área VII: INGENIERÍAS\n",
      "28569           BERNARDO  Área VII: INGENIERÍAS\n",
      "28573      MAYRA DANIELA  Área VII: INGENIERÍAS\n",
      "\n",
      "[4145 rows x 2 columns]\n",
      "\n",
      "\n",
      "Cluster 2:\n",
      "                          Nombre        Área del Conocimiento\n",
      "1                         DANIEL  Área II: BIOLOGÍA Y QUÍMICA\n",
      "28                   DINO HERNAN  Área II: BIOLOGÍA Y QUÍMICA\n",
      "29     ROSALINA MARIA DE LOURDES  Área II: BIOLOGÍA Y QUÍMICA\n",
      "30                    JAIME RENE  Área II: BIOLOGÍA Y QUÍMICA\n",
      "31                         JESUS  Área II: BIOLOGÍA Y QUÍMICA\n",
      "...                          ...                          ...\n",
      "28568    TERESITA DEL NINO JESUS  Área II: BIOLOGÍA Y QUÍMICA\n",
      "28570                 JUAN PABLO  Área II: BIOLOGÍA Y QUÍMICA\n",
      "28571          GUILLERMO CIPACTL  Área II: BIOLOGÍA Y QUÍMICA\n",
      "28572                       SAUL  Área II: BIOLOGÍA Y QUÍMICA\n",
      "28575                     ANDREA  Área II: BIOLOGÍA Y QUÍMICA\n",
      "\n",
      "[4318 rows x 2 columns]\n",
      "\n",
      "\n"
     ]
    }
   ],
   "source": [
    "# Imprime las primeras filas del DataFrame para ver los resultados\n",
    "print(data.head())\n",
    "\n",
    "# Otra forma de ver los resultados es agrupando los datos por etiqueta de clúster\n",
    "cluster_groups = data.groupby('Cluster')\n",
    "for cluster_id, cluster_data in cluster_groups:\n",
    "    print(f'Cluster {cluster_id}:')\n",
    "    print(cluster_data[['Nombre', 'Área del Conocimiento']])\n",
    "    print('\\n')"
   ]
  },
  {
   "cell_type": "markdown",
   "id": "6e3158c2",
   "metadata": {},
   "source": [
    "Cada clúster agrupa a investigadores con áreas de conocimiento similares, según los resultados del algoritmo K-Means. Esto puede ser útil para identificar patrones o grupos de investigadores que comparten intereses académicos similares."
   ]
  },
  {
   "cell_type": "markdown",
   "id": "44433e3c",
   "metadata": {},
   "source": [
    "El resultado de aplicar el algoritmo K-Means a tus datos sirve para agrupar a los investigadores en clústeres basados en similitudes en sus áreas de conocimiento. Esto puede ser útil por varias razones:\n",
    "\n",
    "Segmentación de Investigadores: Permite segmentar a los investigadores en grupos con intereses académicos similares. Esto puede ayudar a comprender mejor la distribución de expertos en diferentes áreas dentro de una población de investigadores.\n",
    "\n",
    "Análisis de Colaboración: Al identificar grupos de investigadores con intereses similares, puedes fomentar la colaboración entre ellos. Por ejemplo, si dos investigadores comparten un clúster, es posible que tengan áreas de investigación complementarias y puedan colaborar en proyectos conjuntos.\n",
    "\n",
    "Recomendación de Contenido: Si estás gestionando una plataforma de investigación o una revista académica, la segmentación de investigadores en clústeres puede ayudar a recomendar contenido relevante a los usuarios en función de sus intereses.\n",
    "\n",
    "Identificación de Tendencias: Puede ayudar a identificar tendencias emergentes en la investigación al observar cómo evolucionan los clústeres con el tiempo. Por ejemplo, si un nuevo campo de investigación gana popularidad, es posible que veas un clúster creciente en esa área.\n",
    "\n",
    "Optimización de Recursos: En un contexto académico o de investigación, la agrupación de investigadores puede ayudar a las instituciones a asignar recursos de manera más eficiente al comprender dónde se concentran las fortalezas y las áreas de interés.\n",
    "\n",
    "En resumen, el resultado del clustering con K-Means te proporciona una herramienta para entender mejor la estructura y la distribución de los investigadores en función de sus áreas de conocimiento, lo que puede llevar a una toma de decisiones más informada y a la promoción de la colaboración y la investigación interdisciplinaria."
   ]
  },
  {
   "cell_type": "code",
   "execution_count": null,
   "id": "d04f9a2b",
   "metadata": {},
   "outputs": [],
   "source": []
  }
 ],
 "metadata": {
  "kernelspec": {
   "display_name": "Python 3 (ipykernel)",
   "language": "python",
   "name": "python3"
  },
  "language_info": {
   "codemirror_mode": {
    "name": "ipython",
    "version": 3
   },
   "file_extension": ".py",
   "mimetype": "text/x-python",
   "name": "python",
   "nbconvert_exporter": "python",
   "pygments_lexer": "ipython3",
   "version": "3.11.3"
  }
 },
 "nbformat": 4,
 "nbformat_minor": 5
}
